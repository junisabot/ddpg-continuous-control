{
 "cells": [
  {
   "cell_type": "code",
   "execution_count": 1,
   "id": "329c0a32",
   "metadata": {},
   "outputs": [],
   "source": [
    "# import libraries\n",
    "import os\n",
    "import torch\n",
    "import numpy as np\n",
    "import matplotlib.pyplot as plt\n",
    "from collections import deque\n",
    "from unityagents import UnityEnvironment"
   ]
  },
  {
   "cell_type": "code",
   "execution_count": 2,
   "id": "b1edb903",
   "metadata": {},
   "outputs": [],
   "source": [
    "# import libraries\n",
    "import agent\n",
    "import config\n",
    "from util import utils"
   ]
  },
  {
   "cell_type": "code",
   "execution_count": 3,
   "id": "b6330ab1",
   "metadata": {},
   "outputs": [],
   "source": [
    "# init\n",
    "utils.seed_everything()\n",
    "os.makedirs(config.SAVE_DIRECTORY, exist_ok=True)"
   ]
  },
  {
   "cell_type": "code",
   "execution_count": 4,
   "id": "426ffa5b",
   "metadata": {},
   "outputs": [
    {
     "name": "stderr",
     "output_type": "stream",
     "text": [
      "INFO:unityagents:\n",
      "'Academy' started successfully!\n",
      "Unity Academy name: Academy\n",
      "        Number of Brains: 1\n",
      "        Number of External Brains : 1\n",
      "        Lesson number : 0\n",
      "        Reset Parameters :\n",
      "\t\tgoal_speed -> 1.0\n",
      "\t\tgoal_size -> 5.0\n",
      "Unity brain name: ReacherBrain\n",
      "        Number of Visual Observations (per agent): 0\n",
      "        Vector Observation space type: continuous\n",
      "        Vector Observation space size (per agent): 33\n",
      "        Number of stacked Vector Observation: 1\n",
      "        Vector Action space type: continuous\n",
      "        Vector Action space size (per agent): 4\n",
      "        Vector Action descriptions: , , , \n"
     ]
    }
   ],
   "source": [
    "# load game environment\n",
    "env = UnityEnvironment(file_name=config.UNITY_ENVIRONMENT_PATH)\n",
    "brain_name = env.brain_names[0]\n",
    "brain = env.brains[brain_name]\n",
    "env_info = env.reset(train_mode=True)[brain_name]"
   ]
  },
  {
   "cell_type": "code",
   "execution_count": 5,
   "id": "44afd3ec",
   "metadata": {},
   "outputs": [],
   "source": [
    "# extract game configuration\n",
    "num_agents = len(env_info.agents)\n",
    "states = env_info.vector_observations\n",
    "input_dims = states.shape[1]\n",
    "action_dims = brain.vector_action_space_size"
   ]
  },
  {
   "cell_type": "code",
   "execution_count": 6,
   "id": "bc9ede97",
   "metadata": {},
   "outputs": [],
   "source": [
    "# initialise agent\n",
    "agent = agent.DDPG(input_dims, action_dims, num_agents)"
   ]
  },
  {
   "cell_type": "code",
   "execution_count": 7,
   "id": "319abf57",
   "metadata": {},
   "outputs": [
    {
     "name": "stderr",
     "output_type": "stream",
     "text": [
      "/home/junkit2/.local/lib/python3.6/site-packages/torch/nn/functional.py:1698: UserWarning: nn.functional.tanh is deprecated. Use torch.tanh instead.\n",
      "  warnings.warn(\"nn.functional.tanh is deprecated. Use torch.tanh instead.\")\n"
     ]
    },
    {
     "name": "stdout",
     "output_type": "stream",
     "text": [
      "episode: 119/120   score: 7.819999825209379   best score: 3.51139992151409466\r"
     ]
    }
   ],
   "source": [
    "# create training function\n",
    "def train(n_episodes, num_agents, score_buffer=100):\n",
    "\n",
    "    # init\n",
    "    scores_log = []\n",
    "    scores_deque = deque(maxlen=100)\n",
    "    best_average_score = 0\n",
    "\n",
    "    # start training\n",
    "    for eps in range(n_episodes):\n",
    "\n",
    "        # re-init\n",
    "        agent.reset()\n",
    "        score = np.zeros(num_agents)\n",
    "\n",
    "        # reset env\n",
    "        env_info = env.reset(train_mode=True)[brain_name]\n",
    "        states = env_info.vector_observations\n",
    "        \n",
    "        # iterating within single episode\n",
    "        while True:\n",
    "\n",
    "            # get optimal actions based on latest agent policy\n",
    "            actions = agent.act(states)\n",
    "        \n",
    "            # execute actions\n",
    "            env_info = env.step(actions)[brain_name]\n",
    "            next_states = env_info.vector_observations\n",
    "            rewards = env_info.rewards\n",
    "            dones = env_info.local_done\n",
    "\n",
    "            # learn from actions\n",
    "            agent.step(states, actions, rewards, next_states, dones)\n",
    "\n",
    "            # store rewards\n",
    "            score += rewards\n",
    "        \n",
    "            # stop iteration if it reach terminal                                                        \n",
    "            if np.any(dones):   \n",
    "                break                                        \n",
    "\n",
    "            # setting preparation for next iteration\n",
    "            states = next_states       \n",
    "\n",
    "        # calculate average score from all agents\n",
    "        average_episode_score = np.mean(score)\n",
    "        \n",
    "        # save score into buffer\n",
    "        scores_log.append(average_episode_score)\n",
    "        scores_deque.append(average_episode_score)\n",
    "\n",
    "        # save better model\n",
    "        average_score = np.mean(scores_deque)\n",
    "        if average_score > best_average_score:\n",
    "            torch.save(agent.actor_local.state_dict(), '{}/actor_model.pth'.format(config.SAVE_DIRECTORY))\n",
    "            torch.save(agent.critic_local.state_dict(), '{}/critic_model.pth'.format(config.SAVE_DIRECTORY))\n",
    "            best_average_score = average_score\n",
    "            if best_average_score > 30:\n",
    "                print(\"environment solved in {} episode with average score = {}\".format(eps, best_average_score))\n",
    "                break\n",
    "        print(\"episode: {}/{}   score: {}   best score: {}\".format(eps, n_episodes, np.mean(score), best_average_score), end=\"\\r\")\n",
    "    \n",
    "    return scores_log\n",
    "\n",
    "# start training\n",
    "scores_log = train(config.N_EPISODES, num_agents)"
   ]
  },
  {
   "cell_type": "code",
   "execution_count": 8,
   "id": "7f4973db",
   "metadata": {},
   "outputs": [
    {
     "data": {
      "image/png": "[encoded data removed]",
      "text/plain": [
       "<Figure size 432x288 with 1 Axes>"
      ]
     },
     "metadata": {
      "needs_background": "light"
     },
     "output_type": "display_data"
    }
   ],
   "source": [
    "# plot results\n",
    "x = np.arange(1, len(scores_log)+1)\n",
    "y = scores_log\n",
    "plt.plot(x, y)\n",
    "plt.title(\"Continuous Control Episode vs Rewards\")\n",
    "plt.xlabel(\"Episode\")\n",
    "plt.ylabel(\"Average Rewards\")\n",
    "plt.show()"
   ]
  }
 ],
 "metadata": {
  "kernelspec": {
   "display_name": "Python 3.9.0 64-bit",
   "language": "python",
   "name": "python3"
  },
  "language_info": {
   "codemirror_mode": {
    "name": "ipython",
    "version": 3
   },
   "file_extension": ".py",
   "mimetype": "text/x-python",
   "name": "python",
   "nbconvert_exporter": "python",
   "pygments_lexer": "ipython3",
   "version": "3.6.9"
  },
  "vscode": {
   "interpreter": {
    "hash": "d0edc64fb156e6d645d6ddad8f078da6aa153a4e7c114de6deac37ee861d32aa"
   }
  }
 },
 "nbformat": 4,
 "nbformat_minor": 5
}
