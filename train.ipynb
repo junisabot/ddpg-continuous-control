{
 "cells": [
  {
   "cell_type": "code",
   "execution_count": 1,
   "id": "329c0a32",
   "metadata": {},
   "outputs": [
    {
     "ename": "ModuleNotFoundError",
     "evalue": "No module named 'unityagents'",
     "output_type": "error",
     "traceback": [
      "\u001b[1;31m---------------------------------------------------------------------------\u001b[0m",
      "\u001b[1;31mModuleNotFoundError\u001b[0m                       Traceback (most recent call last)",
      "\u001b[1;32mc:\\Users\\junnk\\Documents\\udacity\\ddpg-continuous-control\\train.ipynb Cell 1\u001b[0m in \u001b[0;36m<cell line: 7>\u001b[1;34m()\u001b[0m\n\u001b[0;32m      <a href='vscode-notebook-cell:/c%3A/Users/junnk/Documents/udacity/ddpg-continuous-control/train.ipynb#ch0000000?line=4'>5</a>\u001b[0m \u001b[39mimport\u001b[39;00m \u001b[39mmatplotlib\u001b[39;00m\u001b[39m.\u001b[39;00m\u001b[39mpyplot\u001b[39;00m \u001b[39mas\u001b[39;00m \u001b[39mplt\u001b[39;00m\n\u001b[0;32m      <a href='vscode-notebook-cell:/c%3A/Users/junnk/Documents/udacity/ddpg-continuous-control/train.ipynb#ch0000000?line=5'>6</a>\u001b[0m \u001b[39mfrom\u001b[39;00m \u001b[39mcollections\u001b[39;00m \u001b[39mimport\u001b[39;00m deque\n\u001b[1;32m----> <a href='vscode-notebook-cell:/c%3A/Users/junnk/Documents/udacity/ddpg-continuous-control/train.ipynb#ch0000000?line=6'>7</a>\u001b[0m \u001b[39mfrom\u001b[39;00m \u001b[39munityagents\u001b[39;00m \u001b[39mimport\u001b[39;00m UnityEnvironment\n",
      "\u001b[1;31mModuleNotFoundError\u001b[0m: No module named 'unityagents'"
     ]
    }
   ],
   "source": [
    "# import libraries\n",
    "import os\n",
    "import torch\n",
    "import numpy as np\n",
    "import matplotlib.pyplot as plt\n",
    "from collections import deque\n",
    "from unityagents import UnityEnvironment"
   ]
  },
  {
   "cell_type": "code",
   "execution_count": null,
   "id": "b1edb903",
   "metadata": {},
   "outputs": [],
   "source": [
    "# import libraries\n",
    "import agent\n",
    "import config"
   ]
  },
  {
   "cell_type": "code",
   "execution_count": null,
   "id": "b6330ab1",
   "metadata": {},
   "outputs": [],
   "source": [
    "# init\n",
    "os.makedirs(config.SAVE_DIRECTORY, exist_ok=True)"
   ]
  },
  {
   "cell_type": "code",
   "execution_count": null,
   "id": "426ffa5b",
   "metadata": {},
   "outputs": [],
   "source": [
    "# load game environment\n",
    "env = UnityEnvironment(file_name=config.UNITY_ENVIRONMENT_PATH, no_graphics=config.UNITY_NO_GRAPHIC, worker_id=config.UNITY_WORKER_ID))\n",
    "brain_name = env.brain_names[0]\n",
    "brain = env.brains[brain_name]\n",
    "env_info = env.reset(train_mode=True)[brain_name]"
   ]
  },
  {
   "cell_type": "code",
   "execution_count": null,
   "id": "44afd3ec",
   "metadata": {},
   "outputs": [],
   "source": [
    "# extract game configuration\n",
    "num_agents = len(env_info.agents)\n",
    "states = env_info.vector_observations\n",
    "input_dims = states.shape[1]\n",
    "action_dims = brain.vector_action_space_size"
   ]
  },
  {
   "cell_type": "code",
   "execution_count": null,
   "id": "bc9ede97",
   "metadata": {},
   "outputs": [],
   "source": [
    "# initialise agent\n",
    "agent = agent.DDPG(input_dims, action_dims, num_agents)"
   ]
  },
  {
   "cell_type": "code",
   "execution_count": null,
   "id": "319abf57",
   "metadata": {},
   "outputs": [],
   "source": [
    "# create training function\n",
    "def train(n_episodes, num_agents, score_buffer=100):\n",
    "\n",
    "    # init\n",
    "    scores = []\n",
    "    scores_window = deque(maxlen=score_buffer)\n",
    "\n",
    "    # start training\n",
    "    for eps in range(n_episodes):\n",
    "\n",
    "        # re-init\n",
    "        agent.reset()\n",
    "        score = np.zeros(num_agents)\n",
    "\n",
    "        # reset env\n",
    "        env_info = env.reset(train_mode=True)[brain_name]\n",
    "        states = env_info.vector_observations\n",
    "        \n",
    "        # iterating within single episode\n",
    "        while True:\n",
    "\n",
    "            # get optimal actions based on latest agent policy\n",
    "            actions = agent.act(states)\n",
    "        \n",
    "            # execute actions\n",
    "            env_info = env.step(actions)[brain_name]\n",
    "            next_states = env_info.vector_observations\n",
    "            rewards = env_info.rewards\n",
    "            dones = env_info.local_done\n",
    "\n",
    "            # learn from actions\n",
    "            agent.step(states, actions, rewards, next_states, dones)\n",
    "\n",
    "            # store rewards\n",
    "            score += rewards\n",
    "        \n",
    "            # stop iteration if it reach terminal                                                        \n",
    "            if np.any(dones):   \n",
    "                break                                        \n",
    "\n",
    "            # setting preparation for next iteration\n",
    "            states = next_states       \n",
    "\n",
    "        # save score into log and buffer\n",
    "        scores.append(np.max(score))\n",
    "        scores_window.append(np.max(score))\n",
    "        print(\"episode: {}/{}   score: {}   average score: {}\".format(eps, n_episodes, np.max(score), np.mean(scores_window)), end=\"\\r\")\n",
    "        \n",
    "        # stop if environment is solved\n",
    "        if np.mean(scores_window) >= 30:\n",
    "            print(\"environment solved in {} episode with average score = {}\".format(eps, np.mean(scores_window)))\n",
    "            torch.save(agent.actor_local.state_dict(), '{}/actor_model.pth'.format(config.SAVE_DIRECTORY))\n",
    "            torch.save(agent.critic_local.state_dict(), '{}/critic_model.pth'.format(config.SAVE_DIRECTORY))\n",
    "            break\n",
    "    \n",
    "    return scores\n",
    "\n",
    "# start training\n",
    "scores_log = train(config.N_EPISODES, num_agents)"
   ]
  },
  {
   "cell_type": "code",
   "execution_count": null,
   "id": "7f4973db",
   "metadata": {},
   "outputs": [],
   "source": [
    "# plot results\n",
    "x = np.arange(1, len(scores_log)+1)\n",
    "y = scores_log\n",
    "plt.plot(x, y)\n",
    "plt.title(\"Continuous Control Episode vs Rewards\")\n",
    "plt.xlabel(\"Episode\")\n",
    "plt.ylabel(\"Average Rewards\")\n",
    "plt.show()"
   ]
  }
 ],
 "metadata": {
  "kernelspec": {
   "display_name": "Python 3.9.0 64-bit",
   "language": "python",
   "name": "python3"
  },
  "language_info": {
   "codemirror_mode": {
    "name": "ipython",
    "version": 3
   },
   "file_extension": ".py",
   "mimetype": "text/x-python",
   "name": "python",
   "nbconvert_exporter": "python",
   "pygments_lexer": "ipython3",
   "version": "3.9.0"
  },
  "vscode": {
   "interpreter": {
    "hash": "d0edc64fb156e6d645d6ddad8f078da6aa153a4e7c114de6deac37ee861d32aa"
   }
  }
 },
 "nbformat": 4,
 "nbformat_minor": 5
}
