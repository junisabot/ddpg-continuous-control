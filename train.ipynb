{
 "cells": [
  {
   "cell_type": "code",
   "execution_count": 1,
   "metadata": {},
   "outputs": [
    {
     "name": "stdout",
     "output_type": "stream",
     "text": [
      "\u001b[31mtensorflow 1.7.1 has requirement numpy>=1.13.3, but you'll have numpy 1.12.1 which is incompatible.\u001b[0m\r\n",
      "\u001b[31mipython 6.5.0 has requirement prompt-toolkit<2.0.0,>=1.0.15, but you'll have prompt-toolkit 3.0.30 which is incompatible.\u001b[0m\r\n",
      "\u001b[31mjupyter-console 6.4.3 has requirement jupyter-client>=7.0.0, but you'll have jupyter-client 5.2.4 which is incompatible.\u001b[0m\r\n"
     ]
    }
   ],
   "source": [
    "!pip -q install ./python"
   ]
  },
  {
   "cell_type": "code",
   "execution_count": 2,
   "metadata": {},
   "outputs": [],
   "source": [
    "# import libraries\n",
    "import os\n",
    "import torch\n",
    "import numpy as np\n",
    "import matplotlib.pyplot as plt\n",
    "from collections import deque\n",
    "from unityagents import UnityEnvironment"
   ]
  },
  {
   "cell_type": "code",
   "execution_count": 8,
   "metadata": {},
   "outputs": [
    {
     "data": {
      "text/plain": [
       "<module 'agent' from '/home/workspace/ddpg-continuous-control/agent.py'>"
      ]
     },
     "execution_count": 8,
     "metadata": {},
     "output_type": "execute_result"
    }
   ],
   "source": [
    "# import libraries\n",
    "import agent\n",
    "import config\n",
    "import importlib\n",
    "importlib.reload(agent)"
   ]
  },
  {
   "cell_type": "code",
   "execution_count": 4,
   "metadata": {},
   "outputs": [],
   "source": [
    "# init\n",
    "os.makedirs(config.SAVE_DIRECTORY, exist_ok=True)"
   ]
  },
  {
   "cell_type": "code",
   "execution_count": 5,
   "metadata": {},
   "outputs": [
    {
     "name": "stderr",
     "output_type": "stream",
     "text": [
      "INFO:unityagents:\n",
      "'Academy' started successfully!\n",
      "Unity Academy name: Academy\n",
      "        Number of Brains: 1\n",
      "        Number of External Brains : 1\n",
      "        Lesson number : 0\n",
      "        Reset Parameters :\n",
      "\t\tgoal_speed -> 1.0\n",
      "\t\tgoal_size -> 5.0\n",
      "Unity brain name: ReacherBrain\n",
      "        Number of Visual Observations (per agent): 0\n",
      "        Vector Observation space type: continuous\n",
      "        Vector Observation space size (per agent): 33\n",
      "        Number of stacked Vector Observation: 1\n",
      "        Vector Action space type: continuous\n",
      "        Vector Action space size (per agent): 4\n",
      "        Vector Action descriptions: , , , \n"
     ]
    }
   ],
   "source": [
    "# load game environment\n",
    "env = UnityEnvironment(file_name=\"/data/Reacher_One_Linux_NoVis/Reacher_One_Linux_NoVis.x86_64\", no_graphics=config.UNITY_NO_GRAPHIC, worker_id=config.UNITY_WORKER_ID)\n",
    "brain_name = env.brain_names[0]\n",
    "brain = env.brains[brain_name]\n",
    "env_info = env.reset(train_mode=True)[brain_name]"
   ]
  },
  {
   "cell_type": "code",
   "execution_count": 6,
   "metadata": {},
   "outputs": [],
   "source": [
    "# extract game configuration\n",
    "num_agents = len(env_info.agents)\n",
    "states = env_info.vector_observations\n",
    "input_dims = states.shape[1]\n",
    "action_dims = brain.vector_action_space_size"
   ]
  },
  {
   "cell_type": "code",
   "execution_count": 9,
   "metadata": {},
   "outputs": [],
   "source": [
    "# initialise agent\n",
    "agent = agent.DDPG(input_dims, action_dims, num_agents)"
   ]
  },
  {
   "cell_type": "code",
   "execution_count": 10,
   "metadata": {},
   "outputs": [
    {
     "name": "stdout",
     "output_type": "stream",
     "text": [
      "environment solved in 254 episode with average score = 30.01369932914152729141527\n"
     ]
    }
   ],
   "source": [
    "# create training function\n",
    "def train(n_episodes, num_agents, score_buffer=100):\n",
    "\n",
    "    # init\n",
    "    scores = []\n",
    "    scores_window = deque(maxlen=score_buffer)\n",
    "\n",
    "    # start training\n",
    "    for eps in range(n_episodes):\n",
    "\n",
    "        # re-init\n",
    "        agent.reset()\n",
    "        score = np.zeros(num_agents)\n",
    "\n",
    "        # reset env\n",
    "        env_info = env.reset(train_mode=True)[brain_name]\n",
    "        states = env_info.vector_observations\n",
    "        \n",
    "        # iterating within single episode\n",
    "        while True:\n",
    "\n",
    "            # get optimal actions based on latest agent policy\n",
    "            actions = agent.act(states)\n",
    "        \n",
    "            # execute actions\n",
    "            env_info = env.step(actions)[brain_name]\n",
    "            next_states = env_info.vector_observations\n",
    "            rewards = env_info.rewards\n",
    "            dones = env_info.local_done\n",
    "\n",
    "            # learn from actions\n",
    "            agent.step(states, actions, rewards, next_states, dones)\n",
    "\n",
    "            # store rewards\n",
    "            score += rewards\n",
    "        \n",
    "            # stop iteration if it reach terminal                                                        \n",
    "            if np.any(dones):   \n",
    "                break                                        \n",
    "\n",
    "            # setting preparation for next iteration\n",
    "            states = next_states       \n",
    "\n",
    "        # save score into log and buffer\n",
    "        scores.append(np.max(score))\n",
    "        scores_window.append(np.max(score))\n",
    "        print(\"episode: {}/{}   score: {}   average score: {}\".format(eps, n_episodes, np.max(score), np.mean(scores_window)), end=\"\\r\")\n",
    "        \n",
    "        # stop if environment is solved\n",
    "        if np.mean(scores_window) >= 30:\n",
    "            print(\"environment solved in {} episode with average score = {}\".format(eps, np.mean(scores_window)))\n",
    "            torch.save(agent.actor_local.state_dict(), '{}/actor_model.pth'.format(config.SAVE_DIRECTORY))\n",
    "            torch.save(agent.critic_local.state_dict(), '{}/critic_model.pth'.format(config.SAVE_DIRECTORY))\n",
    "            break\n",
    "    \n",
    "    return scores\n",
    "\n",
    "# start training\n",
    "scores_log = train(config.N_EPISODES, num_agents)"
   ]
  },
  {
   "cell_type": "code",
   "execution_count": 11,
   "metadata": {},
   "outputs": [
    {
     "data": {
      "image/png": "[encoded data removed]",
      "text/plain": [
       "<matplotlib.figure.Figure at 0x7f2a954b86a0>"
      ]
     },
     "metadata": {
      "needs_background": "light"
     },
     "output_type": "display_data"
    }
   ],
   "source": [
    "# plot results\n",
    "x = np.arange(1, len(scores_log)+1)\n",
    "y = scores_log\n",
    "plt.plot(x, y)\n",
    "plt.title(\"Continuous Control Episode vs Rewards\")\n",
    "plt.xlabel(\"Episode\")\n",
    "plt.ylabel(\"Average Rewards\")\n",
    "plt.show()"
   ]
  }
 ],
 "metadata": {
  "kernelspec": {
   "display_name": "Python 3",
   "language": "python",
   "name": "python3"
  },
  "language_info": {
   "codemirror_mode": {
    "name": "ipython",
    "version": 3
   },
   "file_extension": ".py",
   "mimetype": "text/x-python",
   "name": "python",
   "nbconvert_exporter": "python",
   "pygments_lexer": "ipython3",
   "version": "3.6.3"
  },
  "vscode": {
   "interpreter": {
    "hash": "d0edc64fb156e6d645d6ddad8f078da6aa153a4e7c114de6deac37ee861d32aa"
   }
  }
 },
 "nbformat": 4,
 "nbformat_minor": 5
}
